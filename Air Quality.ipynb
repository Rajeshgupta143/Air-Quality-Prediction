{
 "cells": [
  {
   "cell_type": "markdown",
   "metadata": {},
   "source": [
    "### Regression"
   ]
  },
  {
   "cell_type": "markdown",
   "metadata": {},
   "source": [
    "## Air Quality prediction model using a Machine Learning Algorithm"
   ]
  },
  {
   "cell_type": "markdown",
   "metadata": {},
   "source": [
    "### Problem Statement:\n",
    "- To check the quality of air using ‘Air Quality Chemical Multisensor Device’ by finding the R^2 score and coefficient of regression using different regression models and the best model is selected to evaluate the Air Quality."
   ]
  },
  {
   "cell_type": "markdown",
   "metadata": {},
   "source": [
    "### Dataset Collection\n",
    "- Collected data from: https://archive.ics.uci.edu/ml/machine-learning-databases/00360"
   ]
  },
  {
   "cell_type": "markdown",
   "metadata": {},
   "source": [
    "### About Dataset\n",
    "- The dataset contains 9358 instances of hourly averaged responses from an array of 5 metal oxide chemical sensors embedded in an Air Quality Chemical Multisensor Device"
   ]
  },
  {
   "cell_type": "markdown",
   "metadata": {},
   "source": [
    "## Features Information:\n",
    "1. Date - DD/MM/YY\n",
    "2. Time - HH.MM.SS\n",
    "3. CO(GT) - True hourly averaged concentration CO in mg/m^3\n",
    "4. PT08.S1(CO) - PT08.S1 (tin oxide) hourly averaged sensor response (nominally CO targeted)\n",
    "5. NMHC(GT) - True hourly averaged overall Non Metanic HydroCarbons concentration in microg/m^3\t\n",
    "6. C6H6(GT) - True hourly averaged Benzene concentration in microg/m^3\n",
    "7. PT08.S2(NMHC) - PT08.S2 (titania) hourly averaged sensor response (nominally NMHC targeted)\n",
    "8. NOx(GT) - True hourly averaged NOx concentration in ppb\n",
    "9. PT08.S3(NOx) - PT08.S3 (tungsten oxide) hourly averaged sensor response\n",
    "10. NO2(GT) - True hourly averaged NO2 concentration in microg/m^3\n",
    "\n",
    "11. PT08.S4(NO2)- PT08.S4 (tungsten oxide) hourly averaged sensor response\n",
    "12. PT08.S5(O3) - PT08.S5 (indium oxide) hourly averaged sensor response (nominally O3 targeted)\n",
    "13. T - Temperature in Â°C 14.RH - Relative Humidity (%) 15.AH - Absolute Humidity "
   ]
  },
  {
   "cell_type": "markdown",
   "metadata": {},
   "source": [
    "### Evaluation Metrics:\n",
    "#### R^2 Score:\n",
    "- R-squared is a statistical measure that’s used to assess the goodness of fit of our regression model. In R-squared we have a baseline model"
   ]
  },
  {
   "cell_type": "markdown",
   "metadata": {},
   "source": [
    "## DATA VALIDATION"
   ]
  },
  {
   "cell_type": "code",
   "execution_count": 1,
   "metadata": {},
   "outputs": [],
   "source": [
    "# importing Packages\n",
    "import pandas as pd\n",
    "import numpy as np\n",
    "import matplotlib.pyplot as plt\n",
    "import seaborn as sns\n",
    "%matplotlib inline"
   ]
  },
  {
   "cell_type": "code",
   "execution_count": 2,
   "metadata": {},
   "outputs": [
    {
     "data": {
      "text/html": [
       "<div>\n",
       "<style scoped>\n",
       "    .dataframe tbody tr th:only-of-type {\n",
       "        vertical-align: middle;\n",
       "    }\n",
       "\n",
       "    .dataframe tbody tr th {\n",
       "        vertical-align: top;\n",
       "    }\n",
       "\n",
       "    .dataframe thead th {\n",
       "        text-align: right;\n",
       "    }\n",
       "</style>\n",
       "<table border=\"1\" class=\"dataframe\">\n",
       "  <thead>\n",
       "    <tr style=\"text-align: right;\">\n",
       "      <th></th>\n",
       "      <th>Date</th>\n",
       "      <th>Time</th>\n",
       "      <th>CO(GT)</th>\n",
       "      <th>PT08.S1(CO)</th>\n",
       "      <th>NMHC(GT)</th>\n",
       "      <th>C6H6(GT)</th>\n",
       "      <th>PT08.S2(NMHC)</th>\n",
       "      <th>NOx(GT)</th>\n",
       "      <th>PT08.S3(NOx)</th>\n",
       "      <th>NO2(GT)</th>\n",
       "      <th>PT08.S4(NO2)</th>\n",
       "      <th>PT08.S5(O3)</th>\n",
       "      <th>T</th>\n",
       "      <th>RH</th>\n",
       "      <th>AH</th>\n",
       "    </tr>\n",
       "  </thead>\n",
       "  <tbody>\n",
       "    <tr>\n",
       "      <th>0</th>\n",
       "      <td>2004-03-10</td>\n",
       "      <td>18:00:00</td>\n",
       "      <td>2.6</td>\n",
       "      <td>1360.00</td>\n",
       "      <td>150</td>\n",
       "      <td>11.881723</td>\n",
       "      <td>1045.50</td>\n",
       "      <td>166.0</td>\n",
       "      <td>1056.25</td>\n",
       "      <td>113.0</td>\n",
       "      <td>1692.00</td>\n",
       "      <td>1267.50</td>\n",
       "      <td>13.600</td>\n",
       "      <td>48.875001</td>\n",
       "      <td>0.757754</td>\n",
       "    </tr>\n",
       "    <tr>\n",
       "      <th>1</th>\n",
       "      <td>2004-03-10</td>\n",
       "      <td>19:00:00</td>\n",
       "      <td>2.0</td>\n",
       "      <td>1292.25</td>\n",
       "      <td>112</td>\n",
       "      <td>9.397165</td>\n",
       "      <td>954.75</td>\n",
       "      <td>103.0</td>\n",
       "      <td>1173.75</td>\n",
       "      <td>92.0</td>\n",
       "      <td>1558.75</td>\n",
       "      <td>972.25</td>\n",
       "      <td>13.300</td>\n",
       "      <td>47.700000</td>\n",
       "      <td>0.725487</td>\n",
       "    </tr>\n",
       "    <tr>\n",
       "      <th>2</th>\n",
       "      <td>2004-03-10</td>\n",
       "      <td>20:00:00</td>\n",
       "      <td>2.2</td>\n",
       "      <td>1402.00</td>\n",
       "      <td>88</td>\n",
       "      <td>8.997817</td>\n",
       "      <td>939.25</td>\n",
       "      <td>131.0</td>\n",
       "      <td>1140.00</td>\n",
       "      <td>114.0</td>\n",
       "      <td>1554.50</td>\n",
       "      <td>1074.00</td>\n",
       "      <td>11.900</td>\n",
       "      <td>53.975000</td>\n",
       "      <td>0.750239</td>\n",
       "    </tr>\n",
       "    <tr>\n",
       "      <th>3</th>\n",
       "      <td>2004-03-10</td>\n",
       "      <td>21:00:00</td>\n",
       "      <td>2.2</td>\n",
       "      <td>1375.50</td>\n",
       "      <td>80</td>\n",
       "      <td>9.228796</td>\n",
       "      <td>948.25</td>\n",
       "      <td>172.0</td>\n",
       "      <td>1092.00</td>\n",
       "      <td>122.0</td>\n",
       "      <td>1583.75</td>\n",
       "      <td>1203.25</td>\n",
       "      <td>11.000</td>\n",
       "      <td>60.000000</td>\n",
       "      <td>0.786713</td>\n",
       "    </tr>\n",
       "    <tr>\n",
       "      <th>4</th>\n",
       "      <td>2004-03-10</td>\n",
       "      <td>22:00:00</td>\n",
       "      <td>1.6</td>\n",
       "      <td>1272.25</td>\n",
       "      <td>51</td>\n",
       "      <td>6.518224</td>\n",
       "      <td>835.50</td>\n",
       "      <td>131.0</td>\n",
       "      <td>1205.00</td>\n",
       "      <td>116.0</td>\n",
       "      <td>1490.00</td>\n",
       "      <td>1110.00</td>\n",
       "      <td>11.150</td>\n",
       "      <td>59.575001</td>\n",
       "      <td>0.788794</td>\n",
       "    </tr>\n",
       "    <tr>\n",
       "      <th>5</th>\n",
       "      <td>2004-03-10</td>\n",
       "      <td>23:00:00</td>\n",
       "      <td>1.2</td>\n",
       "      <td>1197.00</td>\n",
       "      <td>38</td>\n",
       "      <td>4.741012</td>\n",
       "      <td>750.25</td>\n",
       "      <td>89.0</td>\n",
       "      <td>1336.50</td>\n",
       "      <td>96.0</td>\n",
       "      <td>1393.00</td>\n",
       "      <td>949.25</td>\n",
       "      <td>11.175</td>\n",
       "      <td>59.175000</td>\n",
       "      <td>0.784772</td>\n",
       "    </tr>\n",
       "    <tr>\n",
       "      <th>6</th>\n",
       "      <td>2004-03-11</td>\n",
       "      <td>00:00:00</td>\n",
       "      <td>1.2</td>\n",
       "      <td>1185.00</td>\n",
       "      <td>31</td>\n",
       "      <td>3.624399</td>\n",
       "      <td>689.50</td>\n",
       "      <td>62.0</td>\n",
       "      <td>1461.75</td>\n",
       "      <td>77.0</td>\n",
       "      <td>1332.75</td>\n",
       "      <td>732.50</td>\n",
       "      <td>11.325</td>\n",
       "      <td>56.775000</td>\n",
       "      <td>0.760312</td>\n",
       "    </tr>\n",
       "    <tr>\n",
       "      <th>7</th>\n",
       "      <td>2004-03-11</td>\n",
       "      <td>01:00:00</td>\n",
       "      <td>1.0</td>\n",
       "      <td>1136.25</td>\n",
       "      <td>31</td>\n",
       "      <td>3.326677</td>\n",
       "      <td>672.00</td>\n",
       "      <td>62.0</td>\n",
       "      <td>1453.25</td>\n",
       "      <td>76.0</td>\n",
       "      <td>1332.75</td>\n",
       "      <td>729.50</td>\n",
       "      <td>10.675</td>\n",
       "      <td>60.000000</td>\n",
       "      <td>0.770238</td>\n",
       "    </tr>\n",
       "    <tr>\n",
       "      <th>8</th>\n",
       "      <td>2004-03-11</td>\n",
       "      <td>02:00:00</td>\n",
       "      <td>0.9</td>\n",
       "      <td>1094.00</td>\n",
       "      <td>24</td>\n",
       "      <td>2.339416</td>\n",
       "      <td>608.50</td>\n",
       "      <td>45.0</td>\n",
       "      <td>1579.00</td>\n",
       "      <td>60.0</td>\n",
       "      <td>1276.00</td>\n",
       "      <td>619.50</td>\n",
       "      <td>10.650</td>\n",
       "      <td>59.674999</td>\n",
       "      <td>0.764819</td>\n",
       "    </tr>\n",
       "    <tr>\n",
       "      <th>9</th>\n",
       "      <td>2004-03-11</td>\n",
       "      <td>03:00:00</td>\n",
       "      <td>0.6</td>\n",
       "      <td>1009.75</td>\n",
       "      <td>19</td>\n",
       "      <td>1.696658</td>\n",
       "      <td>560.75</td>\n",
       "      <td>-200.0</td>\n",
       "      <td>1705.00</td>\n",
       "      <td>-200.0</td>\n",
       "      <td>1234.75</td>\n",
       "      <td>501.25</td>\n",
       "      <td>10.250</td>\n",
       "      <td>60.200001</td>\n",
       "      <td>0.751657</td>\n",
       "    </tr>\n",
       "  </tbody>\n",
       "</table>\n",
       "</div>"
      ],
      "text/plain": [
       "        Date      Time  CO(GT)  PT08.S1(CO)  NMHC(GT)   C6H6(GT)  \\\n",
       "0 2004-03-10  18:00:00     2.6      1360.00       150  11.881723   \n",
       "1 2004-03-10  19:00:00     2.0      1292.25       112   9.397165   \n",
       "2 2004-03-10  20:00:00     2.2      1402.00        88   8.997817   \n",
       "3 2004-03-10  21:00:00     2.2      1375.50        80   9.228796   \n",
       "4 2004-03-10  22:00:00     1.6      1272.25        51   6.518224   \n",
       "5 2004-03-10  23:00:00     1.2      1197.00        38   4.741012   \n",
       "6 2004-03-11  00:00:00     1.2      1185.00        31   3.624399   \n",
       "7 2004-03-11  01:00:00     1.0      1136.25        31   3.326677   \n",
       "8 2004-03-11  02:00:00     0.9      1094.00        24   2.339416   \n",
       "9 2004-03-11  03:00:00     0.6      1009.75        19   1.696658   \n",
       "\n",
       "   PT08.S2(NMHC)  NOx(GT)  PT08.S3(NOx)  NO2(GT)  PT08.S4(NO2)  PT08.S5(O3)  \\\n",
       "0        1045.50    166.0       1056.25    113.0       1692.00      1267.50   \n",
       "1         954.75    103.0       1173.75     92.0       1558.75       972.25   \n",
       "2         939.25    131.0       1140.00    114.0       1554.50      1074.00   \n",
       "3         948.25    172.0       1092.00    122.0       1583.75      1203.25   \n",
       "4         835.50    131.0       1205.00    116.0       1490.00      1110.00   \n",
       "5         750.25     89.0       1336.50     96.0       1393.00       949.25   \n",
       "6         689.50     62.0       1461.75     77.0       1332.75       732.50   \n",
       "7         672.00     62.0       1453.25     76.0       1332.75       729.50   \n",
       "8         608.50     45.0       1579.00     60.0       1276.00       619.50   \n",
       "9         560.75   -200.0       1705.00   -200.0       1234.75       501.25   \n",
       "\n",
       "        T         RH        AH  \n",
       "0  13.600  48.875001  0.757754  \n",
       "1  13.300  47.700000  0.725487  \n",
       "2  11.900  53.975000  0.750239  \n",
       "3  11.000  60.000000  0.786713  \n",
       "4  11.150  59.575001  0.788794  \n",
       "5  11.175  59.175000  0.784772  \n",
       "6  11.325  56.775000  0.760312  \n",
       "7  10.675  60.000000  0.770238  \n",
       "8  10.650  59.674999  0.764819  \n",
       "9  10.250  60.200001  0.751657  "
      ]
     },
     "execution_count": 2,
     "metadata": {},
     "output_type": "execute_result"
    }
   ],
   "source": [
    "# Data Extraction\n",
    "# Reading the dataset\n",
    "\n",
    "data=pd.read_excel(\"C:/Users/lenovo/Desktop/summer internship/AirQualityUCI.xlsx\")\n",
    "# prints the first 10 rows of dataframe\n",
    "data.head(10) "
   ]
  },
  {
   "cell_type": "code",
   "execution_count": 3,
   "metadata": {},
   "outputs": [
    {
     "data": {
      "text/plain": [
       "(9357, 15)"
      ]
     },
     "execution_count": 3,
     "metadata": {},
     "output_type": "execute_result"
    }
   ],
   "source": [
    "# find the shape of Dataframe\n",
    "data.shape"
   ]
  },
  {
   "cell_type": "code",
   "execution_count": 4,
   "metadata": {},
   "outputs": [
    {
     "data": {
      "text/plain": [
       "Index(['Date', 'Time', 'CO(GT)', 'PT08.S1(CO)', 'NMHC(GT)', 'C6H6(GT)',\n",
       "       'PT08.S2(NMHC)', 'NOx(GT)', 'PT08.S3(NOx)', 'NO2(GT)', 'PT08.S4(NO2)',\n",
       "       'PT08.S5(O3)', 'T', 'RH', 'AH'],\n",
       "      dtype='object')"
      ]
     },
     "execution_count": 4,
     "metadata": {},
     "output_type": "execute_result"
    }
   ],
   "source": [
    "# Reading  columns name\n",
    "data.columns"
   ]
  },
  {
   "cell_type": "code",
   "execution_count": 47,
   "metadata": {},
   "outputs": [
    {
     "data": {
      "text/html": [
       "<div>\n",
       "<style scoped>\n",
       "    .dataframe tbody tr th:only-of-type {\n",
       "        vertical-align: middle;\n",
       "    }\n",
       "\n",
       "    .dataframe tbody tr th {\n",
       "        vertical-align: top;\n",
       "    }\n",
       "\n",
       "    .dataframe thead th {\n",
       "        text-align: right;\n",
       "    }\n",
       "</style>\n",
       "<table border=\"1\" class=\"dataframe\">\n",
       "  <thead>\n",
       "    <tr style=\"text-align: right;\">\n",
       "      <th></th>\n",
       "      <th>CO(GT)</th>\n",
       "      <th>PT08.S1(CO)</th>\n",
       "      <th>NMHC(GT)</th>\n",
       "      <th>C6H6(GT)</th>\n",
       "      <th>PT08.S2(NMHC)</th>\n",
       "      <th>NOx(GT)</th>\n",
       "      <th>PT08.S3(NOx)</th>\n",
       "      <th>NO2(GT)</th>\n",
       "      <th>PT08.S4(NO2)</th>\n",
       "      <th>PT08.S5(O3)</th>\n",
       "      <th>T</th>\n",
       "      <th>RH</th>\n",
       "      <th>AH</th>\n",
       "    </tr>\n",
       "  </thead>\n",
       "  <tbody>\n",
       "    <tr>\n",
       "      <th>count</th>\n",
       "      <td>9357.000000</td>\n",
       "      <td>9357.000000</td>\n",
       "      <td>9357.000000</td>\n",
       "      <td>9357.000000</td>\n",
       "      <td>9357.000000</td>\n",
       "      <td>9357.000000</td>\n",
       "      <td>9357.000000</td>\n",
       "      <td>9357.000000</td>\n",
       "      <td>9357.000000</td>\n",
       "      <td>9357.000000</td>\n",
       "      <td>9357.000000</td>\n",
       "      <td>9357.000000</td>\n",
       "      <td>9357.000000</td>\n",
       "    </tr>\n",
       "    <tr>\n",
       "      <th>mean</th>\n",
       "      <td>-34.207524</td>\n",
       "      <td>1048.869652</td>\n",
       "      <td>-159.090093</td>\n",
       "      <td>1.865576</td>\n",
       "      <td>894.475963</td>\n",
       "      <td>168.604200</td>\n",
       "      <td>794.872333</td>\n",
       "      <td>58.135898</td>\n",
       "      <td>1391.363266</td>\n",
       "      <td>974.951534</td>\n",
       "      <td>9.776600</td>\n",
       "      <td>39.483611</td>\n",
       "      <td>-6.837604</td>\n",
       "    </tr>\n",
       "    <tr>\n",
       "      <th>std</th>\n",
       "      <td>77.657170</td>\n",
       "      <td>329.817015</td>\n",
       "      <td>139.789093</td>\n",
       "      <td>41.380154</td>\n",
       "      <td>342.315902</td>\n",
       "      <td>257.424561</td>\n",
       "      <td>321.977031</td>\n",
       "      <td>126.931428</td>\n",
       "      <td>467.192382</td>\n",
       "      <td>456.922728</td>\n",
       "      <td>43.203438</td>\n",
       "      <td>51.215645</td>\n",
       "      <td>38.976670</td>\n",
       "    </tr>\n",
       "    <tr>\n",
       "      <th>min</th>\n",
       "      <td>-200.000000</td>\n",
       "      <td>-200.000000</td>\n",
       "      <td>-200.000000</td>\n",
       "      <td>-200.000000</td>\n",
       "      <td>-200.000000</td>\n",
       "      <td>-200.000000</td>\n",
       "      <td>-200.000000</td>\n",
       "      <td>-200.000000</td>\n",
       "      <td>-200.000000</td>\n",
       "      <td>-200.000000</td>\n",
       "      <td>-200.000000</td>\n",
       "      <td>-200.000000</td>\n",
       "      <td>-200.000000</td>\n",
       "    </tr>\n",
       "    <tr>\n",
       "      <th>25%</th>\n",
       "      <td>0.600000</td>\n",
       "      <td>921.000000</td>\n",
       "      <td>-200.000000</td>\n",
       "      <td>4.004958</td>\n",
       "      <td>711.000000</td>\n",
       "      <td>50.000000</td>\n",
       "      <td>637.000000</td>\n",
       "      <td>53.000000</td>\n",
       "      <td>1184.750000</td>\n",
       "      <td>699.750000</td>\n",
       "      <td>10.950000</td>\n",
       "      <td>34.050000</td>\n",
       "      <td>0.692275</td>\n",
       "    </tr>\n",
       "    <tr>\n",
       "      <th>50%</th>\n",
       "      <td>1.500000</td>\n",
       "      <td>1052.500000</td>\n",
       "      <td>-200.000000</td>\n",
       "      <td>7.886653</td>\n",
       "      <td>894.500000</td>\n",
       "      <td>141.000000</td>\n",
       "      <td>794.250000</td>\n",
       "      <td>96.000000</td>\n",
       "      <td>1445.500000</td>\n",
       "      <td>942.000000</td>\n",
       "      <td>17.200000</td>\n",
       "      <td>48.550000</td>\n",
       "      <td>0.976823</td>\n",
       "    </tr>\n",
       "    <tr>\n",
       "      <th>75%</th>\n",
       "      <td>2.600000</td>\n",
       "      <td>1221.250000</td>\n",
       "      <td>-200.000000</td>\n",
       "      <td>13.636091</td>\n",
       "      <td>1104.750000</td>\n",
       "      <td>284.200000</td>\n",
       "      <td>960.250000</td>\n",
       "      <td>133.000000</td>\n",
       "      <td>1662.000000</td>\n",
       "      <td>1255.250000</td>\n",
       "      <td>24.075000</td>\n",
       "      <td>61.875000</td>\n",
       "      <td>1.296223</td>\n",
       "    </tr>\n",
       "    <tr>\n",
       "      <th>max</th>\n",
       "      <td>11.900000</td>\n",
       "      <td>2039.750000</td>\n",
       "      <td>1189.000000</td>\n",
       "      <td>63.741476</td>\n",
       "      <td>2214.000000</td>\n",
       "      <td>1479.000000</td>\n",
       "      <td>2682.750000</td>\n",
       "      <td>339.700000</td>\n",
       "      <td>2775.000000</td>\n",
       "      <td>2522.750000</td>\n",
       "      <td>44.600000</td>\n",
       "      <td>88.725000</td>\n",
       "      <td>2.231036</td>\n",
       "    </tr>\n",
       "  </tbody>\n",
       "</table>\n",
       "</div>"
      ],
      "text/plain": [
       "            CO(GT)  PT08.S1(CO)     NMHC(GT)     C6H6(GT)  PT08.S2(NMHC)  \\\n",
       "count  9357.000000  9357.000000  9357.000000  9357.000000    9357.000000   \n",
       "mean    -34.207524  1048.869652  -159.090093     1.865576     894.475963   \n",
       "std      77.657170   329.817015   139.789093    41.380154     342.315902   \n",
       "min    -200.000000  -200.000000  -200.000000  -200.000000    -200.000000   \n",
       "25%       0.600000   921.000000  -200.000000     4.004958     711.000000   \n",
       "50%       1.500000  1052.500000  -200.000000     7.886653     894.500000   \n",
       "75%       2.600000  1221.250000  -200.000000    13.636091    1104.750000   \n",
       "max      11.900000  2039.750000  1189.000000    63.741476    2214.000000   \n",
       "\n",
       "           NOx(GT)  PT08.S3(NOx)      NO2(GT)  PT08.S4(NO2)  PT08.S5(O3)  \\\n",
       "count  9357.000000   9357.000000  9357.000000   9357.000000  9357.000000   \n",
       "mean    168.604200    794.872333    58.135898   1391.363266   974.951534   \n",
       "std     257.424561    321.977031   126.931428    467.192382   456.922728   \n",
       "min    -200.000000   -200.000000  -200.000000   -200.000000  -200.000000   \n",
       "25%      50.000000    637.000000    53.000000   1184.750000   699.750000   \n",
       "50%     141.000000    794.250000    96.000000   1445.500000   942.000000   \n",
       "75%     284.200000    960.250000   133.000000   1662.000000  1255.250000   \n",
       "max    1479.000000   2682.750000   339.700000   2775.000000  2522.750000   \n",
       "\n",
       "                 T           RH           AH  \n",
       "count  9357.000000  9357.000000  9357.000000  \n",
       "mean      9.776600    39.483611    -6.837604  \n",
       "std      43.203438    51.215645    38.976670  \n",
       "min    -200.000000  -200.000000  -200.000000  \n",
       "25%      10.950000    34.050000     0.692275  \n",
       "50%      17.200000    48.550000     0.976823  \n",
       "75%      24.075000    61.875000     1.296223  \n",
       "max      44.600000    88.725000     2.231036  "
      ]
     },
     "execution_count": 47,
     "metadata": {},
     "output_type": "execute_result"
    }
   ],
   "source": [
    "data.describe()"
   ]
  },
  {
   "cell_type": "code",
   "execution_count": 6,
   "metadata": {},
   "outputs": [
    {
     "name": "stdout",
     "output_type": "stream",
     "text": [
      "<class 'pandas.core.frame.DataFrame'>\n",
      "RangeIndex: 9357 entries, 0 to 9356\n",
      "Data columns (total 15 columns):\n",
      " #   Column         Non-Null Count  Dtype         \n",
      "---  ------         --------------  -----         \n",
      " 0   Date           9357 non-null   datetime64[ns]\n",
      " 1   Time           9357 non-null   object        \n",
      " 2   CO(GT)         9357 non-null   float64       \n",
      " 3   PT08.S1(CO)    9357 non-null   float64       \n",
      " 4   NMHC(GT)       9357 non-null   int64         \n",
      " 5   C6H6(GT)       9357 non-null   float64       \n",
      " 6   PT08.S2(NMHC)  9357 non-null   float64       \n",
      " 7   NOx(GT)        9357 non-null   float64       \n",
      " 8   PT08.S3(NOx)   9357 non-null   float64       \n",
      " 9   NO2(GT)        9357 non-null   float64       \n",
      " 10  PT08.S4(NO2)   9357 non-null   float64       \n",
      " 11  PT08.S5(O3)    9357 non-null   float64       \n",
      " 12  T              9357 non-null   float64       \n",
      " 13  RH             9357 non-null   float64       \n",
      " 14  AH             9357 non-null   float64       \n",
      "dtypes: datetime64[ns](1), float64(12), int64(1), object(1)\n",
      "memory usage: 1.0+ MB\n"
     ]
    }
   ],
   "source": [
    "# Looking at the information about the dataset\n",
    "data.info()"
   ]
  },
  {
   "cell_type": "code",
   "execution_count": 7,
   "metadata": {},
   "outputs": [
    {
     "data": {
      "text/html": [
       "<div>\n",
       "<style scoped>\n",
       "    .dataframe tbody tr th:only-of-type {\n",
       "        vertical-align: middle;\n",
       "    }\n",
       "\n",
       "    .dataframe tbody tr th {\n",
       "        vertical-align: top;\n",
       "    }\n",
       "\n",
       "    .dataframe thead th {\n",
       "        text-align: right;\n",
       "    }\n",
       "</style>\n",
       "<table border=\"1\" class=\"dataframe\">\n",
       "  <thead>\n",
       "    <tr style=\"text-align: right;\">\n",
       "      <th></th>\n",
       "      <th>CO(GT)</th>\n",
       "      <th>PT08.S1(CO)</th>\n",
       "      <th>NMHC(GT)</th>\n",
       "      <th>C6H6(GT)</th>\n",
       "      <th>PT08.S2(NMHC)</th>\n",
       "      <th>NOx(GT)</th>\n",
       "      <th>PT08.S3(NOx)</th>\n",
       "      <th>NO2(GT)</th>\n",
       "      <th>PT08.S5(O3)</th>\n",
       "      <th>T</th>\n",
       "      <th>RH</th>\n",
       "      <th>AH</th>\n",
       "    </tr>\n",
       "  </thead>\n",
       "  <tbody>\n",
       "    <tr>\n",
       "      <th>0</th>\n",
       "      <td>2.6</td>\n",
       "      <td>1360.00</td>\n",
       "      <td>150</td>\n",
       "      <td>11.881723</td>\n",
       "      <td>1045.50</td>\n",
       "      <td>166.0</td>\n",
       "      <td>1056.25</td>\n",
       "      <td>113.0</td>\n",
       "      <td>1267.50</td>\n",
       "      <td>13.60</td>\n",
       "      <td>48.875001</td>\n",
       "      <td>0.757754</td>\n",
       "    </tr>\n",
       "    <tr>\n",
       "      <th>1</th>\n",
       "      <td>2.0</td>\n",
       "      <td>1292.25</td>\n",
       "      <td>112</td>\n",
       "      <td>9.397165</td>\n",
       "      <td>954.75</td>\n",
       "      <td>103.0</td>\n",
       "      <td>1173.75</td>\n",
       "      <td>92.0</td>\n",
       "      <td>972.25</td>\n",
       "      <td>13.30</td>\n",
       "      <td>47.700000</td>\n",
       "      <td>0.725487</td>\n",
       "    </tr>\n",
       "    <tr>\n",
       "      <th>2</th>\n",
       "      <td>2.2</td>\n",
       "      <td>1402.00</td>\n",
       "      <td>88</td>\n",
       "      <td>8.997817</td>\n",
       "      <td>939.25</td>\n",
       "      <td>131.0</td>\n",
       "      <td>1140.00</td>\n",
       "      <td>114.0</td>\n",
       "      <td>1074.00</td>\n",
       "      <td>11.90</td>\n",
       "      <td>53.975000</td>\n",
       "      <td>0.750239</td>\n",
       "    </tr>\n",
       "    <tr>\n",
       "      <th>3</th>\n",
       "      <td>2.2</td>\n",
       "      <td>1375.50</td>\n",
       "      <td>80</td>\n",
       "      <td>9.228796</td>\n",
       "      <td>948.25</td>\n",
       "      <td>172.0</td>\n",
       "      <td>1092.00</td>\n",
       "      <td>122.0</td>\n",
       "      <td>1203.25</td>\n",
       "      <td>11.00</td>\n",
       "      <td>60.000000</td>\n",
       "      <td>0.786713</td>\n",
       "    </tr>\n",
       "    <tr>\n",
       "      <th>4</th>\n",
       "      <td>1.6</td>\n",
       "      <td>1272.25</td>\n",
       "      <td>51</td>\n",
       "      <td>6.518224</td>\n",
       "      <td>835.50</td>\n",
       "      <td>131.0</td>\n",
       "      <td>1205.00</td>\n",
       "      <td>116.0</td>\n",
       "      <td>1110.00</td>\n",
       "      <td>11.15</td>\n",
       "      <td>59.575001</td>\n",
       "      <td>0.788794</td>\n",
       "    </tr>\n",
       "  </tbody>\n",
       "</table>\n",
       "</div>"
      ],
      "text/plain": [
       "   CO(GT)  PT08.S1(CO)  NMHC(GT)   C6H6(GT)  PT08.S2(NMHC)  NOx(GT)  \\\n",
       "0     2.6      1360.00       150  11.881723        1045.50    166.0   \n",
       "1     2.0      1292.25       112   9.397165         954.75    103.0   \n",
       "2     2.2      1402.00        88   8.997817         939.25    131.0   \n",
       "3     2.2      1375.50        80   9.228796         948.25    172.0   \n",
       "4     1.6      1272.25        51   6.518224         835.50    131.0   \n",
       "\n",
       "   PT08.S3(NOx)  NO2(GT)  PT08.S5(O3)      T         RH        AH  \n",
       "0       1056.25    113.0      1267.50  13.60  48.875001  0.757754  \n",
       "1       1173.75     92.0       972.25  13.30  47.700000  0.725487  \n",
       "2       1140.00    114.0      1074.00  11.90  53.975000  0.750239  \n",
       "3       1092.00    122.0      1203.25  11.00  60.000000  0.786713  \n",
       "4       1205.00    116.0      1110.00  11.15  59.575001  0.788794  "
      ]
     },
     "execution_count": 7,
     "metadata": {},
     "output_type": "execute_result"
    }
   ],
   "source": [
    "# deleting unnecessary columns\n",
    "\n",
    "data_df= data.drop(['Date','Time','PT08.S4(NO2)'],axis=1)\n",
    "data_df.head()"
   ]
  },
  {
   "cell_type": "markdown",
   "metadata": {},
   "source": [
    "## Performing Exploratory Analysis"
   ]
  },
  {
   "cell_type": "code",
   "execution_count": 8,
   "metadata": {},
   "outputs": [
    {
     "data": {
      "text/plain": [
       "CO(GT)           0\n",
       "PT08.S1(CO)      0\n",
       "NMHC(GT)         0\n",
       "C6H6(GT)         0\n",
       "PT08.S2(NMHC)    0\n",
       "NOx(GT)          0\n",
       "PT08.S3(NOx)     0\n",
       "NO2(GT)          0\n",
       "PT08.S5(O3)      0\n",
       "T                0\n",
       "RH               0\n",
       "AH               0\n",
       "dtype: int64"
      ]
     },
     "execution_count": 8,
     "metadata": {},
     "output_type": "execute_result"
    }
   ],
   "source": [
    "#Finding missing values\n",
    "data_df.isnull().sum()"
   ]
  },
  {
   "cell_type": "code",
   "execution_count": 9,
   "metadata": {},
   "outputs": [
    {
     "data": {
      "text/plain": [
       "31"
      ]
     },
     "execution_count": 9,
     "metadata": {},
     "output_type": "execute_result"
    }
   ],
   "source": [
    "# check the duplicate value\n",
    "\n",
    "data_df.duplicated().sum()"
   ]
  },
  {
   "cell_type": "code",
   "execution_count": 10,
   "metadata": {},
   "outputs": [
    {
     "data": {
      "text/html": [
       "<div>\n",
       "<style scoped>\n",
       "    .dataframe tbody tr th:only-of-type {\n",
       "        vertical-align: middle;\n",
       "    }\n",
       "\n",
       "    .dataframe tbody tr th {\n",
       "        vertical-align: top;\n",
       "    }\n",
       "\n",
       "    .dataframe thead th {\n",
       "        text-align: right;\n",
       "    }\n",
       "</style>\n",
       "<table border=\"1\" class=\"dataframe\">\n",
       "  <thead>\n",
       "    <tr style=\"text-align: right;\">\n",
       "      <th></th>\n",
       "      <th>CO(GT)</th>\n",
       "      <th>PT08.S1(CO)</th>\n",
       "      <th>NMHC(GT)</th>\n",
       "      <th>C6H6(GT)</th>\n",
       "      <th>PT08.S2(NMHC)</th>\n",
       "      <th>NOx(GT)</th>\n",
       "      <th>PT08.S3(NOx)</th>\n",
       "      <th>NO2(GT)</th>\n",
       "      <th>PT08.S5(O3)</th>\n",
       "      <th>T</th>\n",
       "      <th>RH</th>\n",
       "      <th>AH</th>\n",
       "    </tr>\n",
       "  </thead>\n",
       "  <tbody>\n",
       "    <tr>\n",
       "      <th>0</th>\n",
       "      <td>2.6</td>\n",
       "      <td>1360.00</td>\n",
       "      <td>150</td>\n",
       "      <td>11.881723</td>\n",
       "      <td>1045.50</td>\n",
       "      <td>166.0</td>\n",
       "      <td>1056.25</td>\n",
       "      <td>113.0</td>\n",
       "      <td>1267.50</td>\n",
       "      <td>13.60</td>\n",
       "      <td>48.875001</td>\n",
       "      <td>0.757754</td>\n",
       "    </tr>\n",
       "    <tr>\n",
       "      <th>1</th>\n",
       "      <td>2.0</td>\n",
       "      <td>1292.25</td>\n",
       "      <td>112</td>\n",
       "      <td>9.397165</td>\n",
       "      <td>954.75</td>\n",
       "      <td>103.0</td>\n",
       "      <td>1173.75</td>\n",
       "      <td>92.0</td>\n",
       "      <td>972.25</td>\n",
       "      <td>13.30</td>\n",
       "      <td>47.700000</td>\n",
       "      <td>0.725487</td>\n",
       "    </tr>\n",
       "    <tr>\n",
       "      <th>2</th>\n",
       "      <td>2.2</td>\n",
       "      <td>1402.00</td>\n",
       "      <td>88</td>\n",
       "      <td>8.997817</td>\n",
       "      <td>939.25</td>\n",
       "      <td>131.0</td>\n",
       "      <td>1140.00</td>\n",
       "      <td>114.0</td>\n",
       "      <td>1074.00</td>\n",
       "      <td>11.90</td>\n",
       "      <td>53.975000</td>\n",
       "      <td>0.750239</td>\n",
       "    </tr>\n",
       "    <tr>\n",
       "      <th>3</th>\n",
       "      <td>2.2</td>\n",
       "      <td>1375.50</td>\n",
       "      <td>80</td>\n",
       "      <td>9.228796</td>\n",
       "      <td>948.25</td>\n",
       "      <td>172.0</td>\n",
       "      <td>1092.00</td>\n",
       "      <td>122.0</td>\n",
       "      <td>1203.25</td>\n",
       "      <td>11.00</td>\n",
       "      <td>60.000000</td>\n",
       "      <td>0.786713</td>\n",
       "    </tr>\n",
       "    <tr>\n",
       "      <th>4</th>\n",
       "      <td>1.6</td>\n",
       "      <td>1272.25</td>\n",
       "      <td>51</td>\n",
       "      <td>6.518224</td>\n",
       "      <td>835.50</td>\n",
       "      <td>131.0</td>\n",
       "      <td>1205.00</td>\n",
       "      <td>116.0</td>\n",
       "      <td>1110.00</td>\n",
       "      <td>11.15</td>\n",
       "      <td>59.575001</td>\n",
       "      <td>0.788794</td>\n",
       "    </tr>\n",
       "  </tbody>\n",
       "</table>\n",
       "</div>"
      ],
      "text/plain": [
       "   CO(GT)  PT08.S1(CO)  NMHC(GT)   C6H6(GT)  PT08.S2(NMHC)  NOx(GT)  \\\n",
       "0     2.6      1360.00       150  11.881723        1045.50    166.0   \n",
       "1     2.0      1292.25       112   9.397165         954.75    103.0   \n",
       "2     2.2      1402.00        88   8.997817         939.25    131.0   \n",
       "3     2.2      1375.50        80   9.228796         948.25    172.0   \n",
       "4     1.6      1272.25        51   6.518224         835.50    131.0   \n",
       "\n",
       "   PT08.S3(NOx)  NO2(GT)  PT08.S5(O3)      T         RH        AH  \n",
       "0       1056.25    113.0      1267.50  13.60  48.875001  0.757754  \n",
       "1       1173.75     92.0       972.25  13.30  47.700000  0.725487  \n",
       "2       1140.00    114.0      1074.00  11.90  53.975000  0.750239  \n",
       "3       1092.00    122.0      1203.25  11.00  60.000000  0.786713  \n",
       "4       1205.00    116.0      1110.00  11.15  59.575001  0.788794  "
      ]
     },
     "execution_count": 10,
     "metadata": {},
     "output_type": "execute_result"
    }
   ],
   "source": [
    "# removing the duplicate value\n",
    "data_df.duplicated().sum()\n",
    "data_df.drop_duplicates(inplace=True)\n",
    "data_df.head()"
   ]
  },
  {
   "cell_type": "code",
   "execution_count": 11,
   "metadata": {},
   "outputs": [
    {
     "name": "stdout",
     "output_type": "stream",
     "text": [
      "<class 'pandas.core.frame.DataFrame'>\n",
      "Int64Index: 9326 entries, 0 to 9356\n",
      "Data columns (total 12 columns):\n",
      " #   Column         Non-Null Count  Dtype  \n",
      "---  ------         --------------  -----  \n",
      " 0   CO(GT)         9326 non-null   float64\n",
      " 1   PT08.S1(CO)    9326 non-null   float64\n",
      " 2   NMHC(GT)       9326 non-null   int64  \n",
      " 3   C6H6(GT)       9326 non-null   float64\n",
      " 4   PT08.S2(NMHC)  9326 non-null   float64\n",
      " 5   NOx(GT)        9326 non-null   float64\n",
      " 6   PT08.S3(NOx)   9326 non-null   float64\n",
      " 7   NO2(GT)        9326 non-null   float64\n",
      " 8   PT08.S5(O3)    9326 non-null   float64\n",
      " 9   T              9326 non-null   float64\n",
      " 10  RH             9326 non-null   float64\n",
      " 11  AH             9326 non-null   float64\n",
      "dtypes: float64(11), int64(1)\n",
      "memory usage: 947.2 KB\n"
     ]
    }
   ],
   "source": [
    "# info() function is used to get consice summary of the dataframe\n",
    "data_df.info()"
   ]
  },
  {
   "cell_type": "code",
   "execution_count": 12,
   "metadata": {},
   "outputs": [
    {
     "data": {
      "text/plain": [
       "Index(['CO(GT)', 'PT08.S1(CO)', 'NMHC(GT)', 'C6H6(GT)', 'PT08.S2(NMHC)',\n",
       "       'NOx(GT)', 'PT08.S3(NOx)', 'NO2(GT)', 'PT08.S5(O3)', 'T', 'RH', 'AH'],\n",
       "      dtype='object')"
      ]
     },
     "execution_count": 12,
     "metadata": {},
     "output_type": "execute_result"
    }
   ],
   "source": [
    "# Reading columns name\n",
    "data_df.columns"
   ]
  },
  {
   "cell_type": "code",
   "execution_count": 13,
   "metadata": {},
   "outputs": [
    {
     "data": {
      "text/plain": [
       "Index(['CO_GT', 'CO', 'NMHC_GT', 'C6H6_GT', 'NHMC', 'NOX_GT', 'NOX', 'NO2_GT',\n",
       "       'O3', 'T', 'RH', 'AH'],\n",
       "      dtype='object')"
      ]
     },
     "execution_count": 13,
     "metadata": {},
     "output_type": "execute_result"
    }
   ],
   "source": [
    "# Changing the column names\n",
    "data_df=data_df.rename(columns={'CO(GT)':'CO_GT','PT08.S1(CO)':'CO',\n",
    "                          'NMHC(GT)':'NMHC_GT','PT08.S2(NMHC)':'NHMC',     \n",
    "                         'C6H6(GT)':'C6H6_GT','NOx(GT)':'NOX_GT','PT08.S3(NOx)':'NOX',\n",
    "                         'NO2(GT)':'NO2_GT','PT08.S5(O3)':'O3'})\n",
    "data_df.columns"
   ]
  },
  {
   "cell_type": "code",
   "execution_count": 48,
   "metadata": {},
   "outputs": [
    {
     "data": {
      "text/html": [
       "<div>\n",
       "<style scoped>\n",
       "    .dataframe tbody tr th:only-of-type {\n",
       "        vertical-align: middle;\n",
       "    }\n",
       "\n",
       "    .dataframe tbody tr th {\n",
       "        vertical-align: top;\n",
       "    }\n",
       "\n",
       "    .dataframe thead th {\n",
       "        text-align: right;\n",
       "    }\n",
       "</style>\n",
       "<table border=\"1\" class=\"dataframe\">\n",
       "  <thead>\n",
       "    <tr style=\"text-align: right;\">\n",
       "      <th></th>\n",
       "      <th>CO_GT</th>\n",
       "      <th>CO</th>\n",
       "      <th>NMHC_GT</th>\n",
       "      <th>C6H6_GT</th>\n",
       "      <th>NHMC</th>\n",
       "      <th>NOX_GT</th>\n",
       "      <th>NOX</th>\n",
       "      <th>NO2_GT</th>\n",
       "      <th>O3</th>\n",
       "      <th>T</th>\n",
       "      <th>RH</th>\n",
       "      <th>AH</th>\n",
       "    </tr>\n",
       "  </thead>\n",
       "  <tbody>\n",
       "    <tr>\n",
       "      <th>count</th>\n",
       "      <td>9326.000000</td>\n",
       "      <td>9326.000000</td>\n",
       "      <td>9326.000000</td>\n",
       "      <td>9326.000000</td>\n",
       "      <td>9326.000000</td>\n",
       "      <td>9326.000000</td>\n",
       "      <td>9326.000000</td>\n",
       "      <td>9326.000000</td>\n",
       "      <td>9326.000000</td>\n",
       "      <td>9326.000000</td>\n",
       "      <td>9326.000000</td>\n",
       "      <td>9326.000000</td>\n",
       "    </tr>\n",
       "    <tr>\n",
       "      <th>mean</th>\n",
       "      <td>-33.677954</td>\n",
       "      <td>1053.020945</td>\n",
       "      <td>-158.954107</td>\n",
       "      <td>2.536585</td>\n",
       "      <td>898.114045</td>\n",
       "      <td>169.829455</td>\n",
       "      <td>798.179328</td>\n",
       "      <td>58.993952</td>\n",
       "      <td>978.857120</td>\n",
       "      <td>10.473905</td>\n",
       "      <td>40.279664</td>\n",
       "      <td>-6.195524</td>\n",
       "    </tr>\n",
       "    <tr>\n",
       "      <th>std</th>\n",
       "      <td>77.212965</td>\n",
       "      <td>322.395213</td>\n",
       "      <td>140.001322</td>\n",
       "      <td>39.775508</td>\n",
       "      <td>337.007823</td>\n",
       "      <td>256.971827</td>\n",
       "      <td>317.352355</td>\n",
       "      <td>126.265174</td>\n",
       "      <td>452.623264</td>\n",
       "      <td>41.544695</td>\n",
       "      <td>49.401077</td>\n",
       "      <td>37.413633</td>\n",
       "    </tr>\n",
       "    <tr>\n",
       "      <th>min</th>\n",
       "      <td>-200.000000</td>\n",
       "      <td>-200.000000</td>\n",
       "      <td>-200.000000</td>\n",
       "      <td>-200.000000</td>\n",
       "      <td>-200.000000</td>\n",
       "      <td>-200.000000</td>\n",
       "      <td>-200.000000</td>\n",
       "      <td>-200.000000</td>\n",
       "      <td>-200.000000</td>\n",
       "      <td>-200.000000</td>\n",
       "      <td>-200.000000</td>\n",
       "      <td>-200.000000</td>\n",
       "    </tr>\n",
       "    <tr>\n",
       "      <th>25%</th>\n",
       "      <td>0.600000</td>\n",
       "      <td>922.500000</td>\n",
       "      <td>-200.000000</td>\n",
       "      <td>4.041180</td>\n",
       "      <td>713.000000</td>\n",
       "      <td>51.000000</td>\n",
       "      <td>638.812500</td>\n",
       "      <td>53.850000</td>\n",
       "      <td>702.250000</td>\n",
       "      <td>11.000000</td>\n",
       "      <td>34.225000</td>\n",
       "      <td>0.695943</td>\n",
       "    </tr>\n",
       "    <tr>\n",
       "      <th>50%</th>\n",
       "      <td>1.500000</td>\n",
       "      <td>1053.250000</td>\n",
       "      <td>-200.000000</td>\n",
       "      <td>7.919863</td>\n",
       "      <td>895.875000</td>\n",
       "      <td>142.000000</td>\n",
       "      <td>795.000000</td>\n",
       "      <td>96.300000</td>\n",
       "      <td>943.500000</td>\n",
       "      <td>17.275000</td>\n",
       "      <td>48.625000</td>\n",
       "      <td>0.979225</td>\n",
       "    </tr>\n",
       "    <tr>\n",
       "      <th>75%</th>\n",
       "      <td>2.600000</td>\n",
       "      <td>1221.937500</td>\n",
       "      <td>-200.000000</td>\n",
       "      <td>13.658956</td>\n",
       "      <td>1105.500000</td>\n",
       "      <td>284.975000</td>\n",
       "      <td>961.000000</td>\n",
       "      <td>133.000000</td>\n",
       "      <td>1256.500000</td>\n",
       "      <td>24.100000</td>\n",
       "      <td>61.925000</td>\n",
       "      <td>1.298629</td>\n",
       "    </tr>\n",
       "    <tr>\n",
       "      <th>max</th>\n",
       "      <td>11.900000</td>\n",
       "      <td>2039.750000</td>\n",
       "      <td>1189.000000</td>\n",
       "      <td>63.741476</td>\n",
       "      <td>2214.000000</td>\n",
       "      <td>1479.000000</td>\n",
       "      <td>2682.750000</td>\n",
       "      <td>339.700000</td>\n",
       "      <td>2522.750000</td>\n",
       "      <td>44.600000</td>\n",
       "      <td>88.725000</td>\n",
       "      <td>2.231036</td>\n",
       "    </tr>\n",
       "  </tbody>\n",
       "</table>\n",
       "</div>"
      ],
      "text/plain": [
       "             CO_GT           CO      NMHC_GT      C6H6_GT         NHMC  \\\n",
       "count  9326.000000  9326.000000  9326.000000  9326.000000  9326.000000   \n",
       "mean    -33.677954  1053.020945  -158.954107     2.536585   898.114045   \n",
       "std      77.212965   322.395213   140.001322    39.775508   337.007823   \n",
       "min    -200.000000  -200.000000  -200.000000  -200.000000  -200.000000   \n",
       "25%       0.600000   922.500000  -200.000000     4.041180   713.000000   \n",
       "50%       1.500000  1053.250000  -200.000000     7.919863   895.875000   \n",
       "75%       2.600000  1221.937500  -200.000000    13.658956  1105.500000   \n",
       "max      11.900000  2039.750000  1189.000000    63.741476  2214.000000   \n",
       "\n",
       "            NOX_GT          NOX       NO2_GT           O3            T  \\\n",
       "count  9326.000000  9326.000000  9326.000000  9326.000000  9326.000000   \n",
       "mean    169.829455   798.179328    58.993952   978.857120    10.473905   \n",
       "std     256.971827   317.352355   126.265174   452.623264    41.544695   \n",
       "min    -200.000000  -200.000000  -200.000000  -200.000000  -200.000000   \n",
       "25%      51.000000   638.812500    53.850000   702.250000    11.000000   \n",
       "50%     142.000000   795.000000    96.300000   943.500000    17.275000   \n",
       "75%     284.975000   961.000000   133.000000  1256.500000    24.100000   \n",
       "max    1479.000000  2682.750000   339.700000  2522.750000    44.600000   \n",
       "\n",
       "                RH           AH  \n",
       "count  9326.000000  9326.000000  \n",
       "mean     40.279664    -6.195524  \n",
       "std      49.401077    37.413633  \n",
       "min    -200.000000  -200.000000  \n",
       "25%      34.225000     0.695943  \n",
       "50%      48.625000     0.979225  \n",
       "75%      61.925000     1.298629  \n",
       "max      88.725000     2.231036  "
      ]
     },
     "execution_count": 48,
     "metadata": {},
     "output_type": "execute_result"
    }
   ],
   "source": [
    "data_df.describe()"
   ]
  },
  {
   "cell_type": "markdown",
   "metadata": {},
   "source": [
    "## Visualization of data with missing value"
   ]
  },
  {
   "cell_type": "code",
   "execution_count": 14,
   "metadata": {},
   "outputs": [
    {
     "data": {
      "text/plain": [
       "<matplotlib.axes._subplots.AxesSubplot at 0x89ca830>"
      ]
     },
     "execution_count": 14,
     "metadata": {},
     "output_type": "execute_result"
    },
    {
     "data": {
      "image/png": "[encoded data removed]",
      "text/plain": [
       "<Figure size 432x288 with 2 Axes>"
      ]
     },
     "metadata": {
      "needs_background": "light"
     },
     "output_type": "display_data"
    }
   ],
   "source": [
    "# check the missing value \n",
    "sns.heatmap(data_df.isnull())"
   ]
  },
  {
   "cell_type": "code",
   "execution_count": 15,
   "metadata": {},
   "outputs": [
    {
     "data": {
      "text/html": [
       "<div>\n",
       "<style scoped>\n",
       "    .dataframe tbody tr th:only-of-type {\n",
       "        vertical-align: middle;\n",
       "    }\n",
       "\n",
       "    .dataframe tbody tr th {\n",
       "        vertical-align: top;\n",
       "    }\n",
       "\n",
       "    .dataframe thead th {\n",
       "        text-align: right;\n",
       "    }\n",
       "</style>\n",
       "<table border=\"1\" class=\"dataframe\">\n",
       "  <thead>\n",
       "    <tr style=\"text-align: right;\">\n",
       "      <th></th>\n",
       "      <th>CO_GT</th>\n",
       "      <th>CO</th>\n",
       "      <th>NMHC_GT</th>\n",
       "      <th>C6H6_GT</th>\n",
       "      <th>NHMC</th>\n",
       "      <th>NOX_GT</th>\n",
       "      <th>NOX</th>\n",
       "      <th>NO2_GT</th>\n",
       "      <th>O3</th>\n",
       "      <th>T</th>\n",
       "      <th>RH</th>\n",
       "      <th>AH</th>\n",
       "    </tr>\n",
       "  </thead>\n",
       "  <tbody>\n",
       "    <tr>\n",
       "      <th>CO_GT</th>\n",
       "      <td>1.000000</td>\n",
       "      <td>0.016094</td>\n",
       "      <td>0.127311</td>\n",
       "      <td>-0.067868</td>\n",
       "      <td>0.008337</td>\n",
       "      <td>0.522303</td>\n",
       "      <td>-0.113697</td>\n",
       "      <td>0.666748</td>\n",
       "      <td>0.063951</td>\n",
       "      <td>-0.107108</td>\n",
       "      <td>-0.083820</td>\n",
       "      <td>-0.083776</td>\n",
       "    </tr>\n",
       "    <tr>\n",
       "      <th>CO</th>\n",
       "      <td>0.016094</td>\n",
       "      <td>1.000000</td>\n",
       "      <td>0.170461</td>\n",
       "      <td>0.844921</td>\n",
       "      <td>0.930879</td>\n",
       "      <td>0.267344</td>\n",
       "      <td>0.050023</td>\n",
       "      <td>0.132548</td>\n",
       "      <td>0.891176</td>\n",
       "      <td>0.740441</td>\n",
       "      <td>0.730502</td>\n",
       "      <td>0.751165</td>\n",
       "    </tr>\n",
       "    <tr>\n",
       "      <th>NMHC_GT</th>\n",
       "      <td>0.127311</td>\n",
       "      <td>0.170461</td>\n",
       "      <td>1.000000</td>\n",
       "      <td>0.033958</td>\n",
       "      <td>0.108868</td>\n",
       "      <td>-0.005827</td>\n",
       "      <td>0.046578</td>\n",
       "      <td>0.102085</td>\n",
       "      <td>0.099805</td>\n",
       "      <td>-0.004929</td>\n",
       "      <td>0.003883</td>\n",
       "      <td>0.008014</td>\n",
       "    </tr>\n",
       "    <tr>\n",
       "      <th>C6H6_GT</th>\n",
       "      <td>-0.067868</td>\n",
       "      <td>0.844921</td>\n",
       "      <td>0.033958</td>\n",
       "      <td>1.000000</td>\n",
       "      <td>0.758655</td>\n",
       "      <td>-0.025498</td>\n",
       "      <td>0.489311</td>\n",
       "      <td>-0.046120</td>\n",
       "      <td>0.631812</td>\n",
       "      <td>0.968924</td>\n",
       "      <td>0.918992</td>\n",
       "      <td>0.983218</td>\n",
       "    </tr>\n",
       "    <tr>\n",
       "      <th>NHMC</th>\n",
       "      <td>0.008337</td>\n",
       "      <td>0.930879</td>\n",
       "      <td>0.108868</td>\n",
       "      <td>0.758655</td>\n",
       "      <td>1.000000</td>\n",
       "      <td>0.322725</td>\n",
       "      <td>-0.110213</td>\n",
       "      <td>0.158750</td>\n",
       "      <td>0.908003</td>\n",
       "      <td>0.654305</td>\n",
       "      <td>0.566395</td>\n",
       "      <td>0.630502</td>\n",
       "    </tr>\n",
       "    <tr>\n",
       "      <th>NOX_GT</th>\n",
       "      <td>0.522303</td>\n",
       "      <td>0.267344</td>\n",
       "      <td>-0.005827</td>\n",
       "      <td>-0.025498</td>\n",
       "      <td>0.322725</td>\n",
       "      <td>1.000000</td>\n",
       "      <td>-0.459689</td>\n",
       "      <td>0.815851</td>\n",
       "      <td>0.456258</td>\n",
       "      <td>-0.168877</td>\n",
       "      <td>-0.078429</td>\n",
       "      <td>-0.125054</td>\n",
       "    </tr>\n",
       "    <tr>\n",
       "      <th>NOX</th>\n",
       "      <td>-0.113697</td>\n",
       "      <td>0.050023</td>\n",
       "      <td>0.046578</td>\n",
       "      <td>0.489311</td>\n",
       "      <td>-0.110213</td>\n",
       "      <td>-0.459689</td>\n",
       "      <td>1.000000</td>\n",
       "      <td>-0.283569</td>\n",
       "      <td>-0.241848</td>\n",
       "      <td>0.569716</td>\n",
       "      <td>0.554560</td>\n",
       "      <td>0.605180</td>\n",
       "    </tr>\n",
       "    <tr>\n",
       "      <th>NO2_GT</th>\n",
       "      <td>0.666748</td>\n",
       "      <td>0.132548</td>\n",
       "      <td>0.102085</td>\n",
       "      <td>-0.046120</td>\n",
       "      <td>0.158750</td>\n",
       "      <td>0.815851</td>\n",
       "      <td>-0.283569</td>\n",
       "      <td>1.000000</td>\n",
       "      <td>0.240381</td>\n",
       "      <td>-0.122627</td>\n",
       "      <td>-0.118069</td>\n",
       "      <td>-0.098696</td>\n",
       "    </tr>\n",
       "    <tr>\n",
       "      <th>O3</th>\n",
       "      <td>0.063951</td>\n",
       "      <td>0.891176</td>\n",
       "      <td>0.099805</td>\n",
       "      <td>0.631812</td>\n",
       "      <td>0.908003</td>\n",
       "      <td>0.456258</td>\n",
       "      <td>-0.241848</td>\n",
       "      <td>0.240381</td>\n",
       "      <td>1.000000</td>\n",
       "      <td>0.486782</td>\n",
       "      <td>0.509225</td>\n",
       "      <td>0.503386</td>\n",
       "    </tr>\n",
       "    <tr>\n",
       "      <th>T</th>\n",
       "      <td>-0.107108</td>\n",
       "      <td>0.740441</td>\n",
       "      <td>-0.004929</td>\n",
       "      <td>0.968924</td>\n",
       "      <td>0.654305</td>\n",
       "      <td>-0.168877</td>\n",
       "      <td>0.569716</td>\n",
       "      <td>-0.122627</td>\n",
       "      <td>0.486782</td>\n",
       "      <td>1.000000</td>\n",
       "      <td>0.876650</td>\n",
       "      <td>0.979365</td>\n",
       "    </tr>\n",
       "    <tr>\n",
       "      <th>RH</th>\n",
       "      <td>-0.083820</td>\n",
       "      <td>0.730502</td>\n",
       "      <td>0.003883</td>\n",
       "      <td>0.918992</td>\n",
       "      <td>0.566395</td>\n",
       "      <td>-0.078429</td>\n",
       "      <td>0.554560</td>\n",
       "      <td>-0.118069</td>\n",
       "      <td>0.509225</td>\n",
       "      <td>0.876650</td>\n",
       "      <td>1.000000</td>\n",
       "      <td>0.939466</td>\n",
       "    </tr>\n",
       "    <tr>\n",
       "      <th>AH</th>\n",
       "      <td>-0.083776</td>\n",
       "      <td>0.751165</td>\n",
       "      <td>0.008014</td>\n",
       "      <td>0.983218</td>\n",
       "      <td>0.630502</td>\n",
       "      <td>-0.125054</td>\n",
       "      <td>0.605180</td>\n",
       "      <td>-0.098696</td>\n",
       "      <td>0.503386</td>\n",
       "      <td>0.979365</td>\n",
       "      <td>0.939466</td>\n",
       "      <td>1.000000</td>\n",
       "    </tr>\n",
       "  </tbody>\n",
       "</table>\n",
       "</div>"
      ],
      "text/plain": [
       "            CO_GT        CO   NMHC_GT   C6H6_GT      NHMC    NOX_GT       NOX  \\\n",
       "CO_GT    1.000000  0.016094  0.127311 -0.067868  0.008337  0.522303 -0.113697   \n",
       "CO       0.016094  1.000000  0.170461  0.844921  0.930879  0.267344  0.050023   \n",
       "NMHC_GT  0.127311  0.170461  1.000000  0.033958  0.108868 -0.005827  0.046578   \n",
       "C6H6_GT -0.067868  0.844921  0.033958  1.000000  0.758655 -0.025498  0.489311   \n",
       "NHMC     0.008337  0.930879  0.108868  0.758655  1.000000  0.322725 -0.110213   \n",
       "NOX_GT   0.522303  0.267344 -0.005827 -0.025498  0.322725  1.000000 -0.459689   \n",
       "NOX     -0.113697  0.050023  0.046578  0.489311 -0.110213 -0.459689  1.000000   \n",
       "NO2_GT   0.666748  0.132548  0.102085 -0.046120  0.158750  0.815851 -0.283569   \n",
       "O3       0.063951  0.891176  0.099805  0.631812  0.908003  0.456258 -0.241848   \n",
       "T       -0.107108  0.740441 -0.004929  0.968924  0.654305 -0.168877  0.569716   \n",
       "RH      -0.083820  0.730502  0.003883  0.918992  0.566395 -0.078429  0.554560   \n",
       "AH      -0.083776  0.751165  0.008014  0.983218  0.630502 -0.125054  0.605180   \n",
       "\n",
       "           NO2_GT        O3         T        RH        AH  \n",
       "CO_GT    0.666748  0.063951 -0.107108 -0.083820 -0.083776  \n",
       "CO       0.132548  0.891176  0.740441  0.730502  0.751165  \n",
       "NMHC_GT  0.102085  0.099805 -0.004929  0.003883  0.008014  \n",
       "C6H6_GT -0.046120  0.631812  0.968924  0.918992  0.983218  \n",
       "NHMC     0.158750  0.908003  0.654305  0.566395  0.630502  \n",
       "NOX_GT   0.815851  0.456258 -0.168877 -0.078429 -0.125054  \n",
       "NOX     -0.283569 -0.241848  0.569716  0.554560  0.605180  \n",
       "NO2_GT   1.000000  0.240381 -0.122627 -0.118069 -0.098696  \n",
       "O3       0.240381  1.000000  0.486782  0.509225  0.503386  \n",
       "T       -0.122627  0.486782  1.000000  0.876650  0.979365  \n",
       "RH      -0.118069  0.509225  0.876650  1.000000  0.939466  \n",
       "AH      -0.098696  0.503386  0.979365  0.939466  1.000000  "
      ]
     },
     "execution_count": 15,
     "metadata": {},
     "output_type": "execute_result"
    }
   ],
   "source": [
    "# checking the correlation\n",
    "data_df.corr()"
   ]
  },
  {
   "cell_type": "code",
   "execution_count": 35,
   "metadata": {
    "scrolled": true
   },
   "outputs": [
    {
     "data": {
      "text/plain": [
       "<matplotlib.axes._subplots.AxesSubplot at 0x8f3bed0>"
      ]
     },
     "execution_count": 35,
     "metadata": {},
     "output_type": "execute_result"
    },
    {
     "data": {
      "image/png": "[encoded data removed]",
      "text/plain": [
       "<Figure size 864x720 with 2 Axes>"
      ]
     },
     "metadata": {
      "needs_background": "light"
     },
     "output_type": "display_data"
    }
   ],
   "source": [
    "plt.figure(figsize=(12,10))\n",
    "sns.heatmap(data_df.corr(),annot= True)"
   ]
  },
  {
   "cell_type": "code",
   "execution_count": 50,
   "metadata": {},
   "outputs": [
    {
     "data": {
      "text/plain": [
       "<matplotlib.axes._subplots.AxesSubplot at 0xa63a4b0>"
      ]
     },
     "execution_count": 50,
     "metadata": {},
     "output_type": "execute_result"
    },
    {
     "data": {
      "image/png": "[encoded data removed]",
      "text/plain": [
       "<Figure size 864x720 with 2 Axes>"
      ]
     },
     "metadata": {
      "needs_background": "light"
     },
     "output_type": "display_data"
    }
   ],
   "source": [
    "## Correlation> 0.7\n",
    "correlation = data_df.corr()\n",
    "\n",
    "cor = correlation[(correlation<0.1)]\n",
    "plt.figure(figsize=(12,10))\n",
    "sns.heatmap(cor, cmap='Greens', annot=True)"
   ]
  },
  {
   "cell_type": "code",
   "execution_count": null,
   "metadata": {},
   "outputs": [],
   "source": []
  },
  {
   "cell_type": "markdown",
   "metadata": {},
   "source": [
    "## Data take for split in train data and test data"
   ]
  },
  {
   "cell_type": "code",
   "execution_count": 41,
   "metadata": {},
   "outputs": [],
   "source": [
    "# first take input and output data\n",
    "# we droped 'C6H6(GT)'  column as Target\n",
    "\n",
    "X = data_df.drop(['C6H6_GT'],axis=1).values \n",
    "\n",
    "y = data_df['C6H6_GT'].values  # output"
   ]
  },
  {
   "cell_type": "code",
   "execution_count": 42,
   "metadata": {},
   "outputs": [],
   "source": [
    "# Train and Test portions\n",
    "\n",
    "from sklearn.model_selection import train_test_split\n",
    "\n",
    "X_train,X_test,y_train,y_test=train_test_split(X,y,test_size=0.3)"
   ]
  },
  {
   "cell_type": "markdown",
   "metadata": {},
   "source": [
    "### Apply Linear Regression for build model"
   ]
  },
  {
   "cell_type": "code",
   "execution_count": 43,
   "metadata": {},
   "outputs": [
    {
     "data": {
      "text/plain": [
       "LinearRegression(copy_X=True, fit_intercept=True, n_jobs=None, normalize=False)"
      ]
     },
     "execution_count": 43,
     "metadata": {},
     "output_type": "execute_result"
    }
   ],
   "source": [
    "from sklearn.linear_model import LinearRegression\n",
    "# create one object\n",
    "lr = LinearRegression()\n",
    "lr.fit(X_train,y_train)"
   ]
  },
  {
   "cell_type": "code",
   "execution_count": 44,
   "metadata": {},
   "outputs": [
    {
     "data": {
      "text/plain": [
       "array([ 5.78482023,  9.3033614 , 14.75559945, ..., 11.69648534,\n",
       "       15.55878955,  6.98846135])"
      ]
     },
     "execution_count": 44,
     "metadata": {},
     "output_type": "execute_result"
    }
   ],
   "source": [
    "# apply  predict method on X_train\n",
    "y_train_pred=lr.predict(X_train)\n",
    "y_train_pred"
   ]
  },
  {
   "cell_type": "markdown",
   "metadata": {},
   "source": [
    "### Evaluation Metrics:"
   ]
  },
  {
   "cell_type": "code",
   "execution_count": 45,
   "metadata": {},
   "outputs": [
    {
     "name": "stdout",
     "output_type": "stream",
     "text": [
      "R^2: 0.9991616551795145\n"
     ]
    }
   ],
   "source": [
    "# Apply the r2_score:\n",
    "\n",
    "from sklearn.metrics import r2_score\n",
    "print('R^2:',r2_score(y_train,y_train_pred))"
   ]
  },
  {
   "cell_type": "code",
   "execution_count": 46,
   "metadata": {},
   "outputs": [
    {
     "name": "stdout",
     "output_type": "stream",
     "text": [
      "MAE: 0.8169708142042523\n",
      "MSE: 1.3501063411370673\n",
      "RMSE 1.1619407649002884\n"
     ]
    }
   ],
   "source": [
    "# check the error betwenn our Actual value and the predicted value\n",
    "from sklearn.metrics import r2_score, mean_absolute_error, mean_squared_error\n",
    "print('MAE:', mean_absolute_error(y_train, y_train_pred))\n",
    "\n",
    "print('MSE:', mean_squared_error(y_train, y_train_pred))\n",
    "\n",
    "print('RMSE', np.sqrt(mean_squared_error(y_train, y_train_pred)))"
   ]
  },
  {
   "cell_type": "code",
   "execution_count": 23,
   "metadata": {},
   "outputs": [
    {
     "data": {
      "text/plain": [
       "<matplotlib.collections.PathCollection at 0xb468490>"
      ]
     },
     "execution_count": 23,
     "metadata": {},
     "output_type": "execute_result"
    },
    {
     "data": {
      "image/png": "[encoded data removed]",
      "text/plain": [
       "<Figure size 432x288 with 1 Axes>"
      ]
     },
     "metadata": {
      "needs_background": "light"
     },
     "output_type": "display_data"
    }
   ],
   "source": [
    "# apply scatter plot for Actual train data and predict train data\n",
    "plt.scatter(y_train,y_train_pred)"
   ]
  },
  {
   "cell_type": "code",
   "execution_count": 24,
   "metadata": {},
   "outputs": [
    {
     "data": {
      "text/plain": [
       "array([   1.98008703, -200.37583643,   28.63254698, ...,    9.17285858,\n",
       "          7.19852841,    0.62906506])"
      ]
     },
     "execution_count": 24,
     "metadata": {},
     "output_type": "execute_result"
    }
   ],
   "source": [
    "# apply  predict method on X_test data\n",
    "y_test_pred=lr.predict(X_test)\n",
    "y_test_pred"
   ]
  },
  {
   "cell_type": "code",
   "execution_count": 25,
   "metadata": {},
   "outputs": [
    {
     "name": "stdout",
     "output_type": "stream",
     "text": [
      "R^2: 0.9990681790978626\n"
     ]
    }
   ],
   "source": [
    "# Apply the r2_score:\n",
    "\n",
    "from sklearn.metrics import r2_score\n",
    "print('R^2:',r2_score(y_test,y_test_pred))"
   ]
  },
  {
   "cell_type": "code",
   "execution_count": 26,
   "metadata": {},
   "outputs": [
    {
     "data": {
      "text/plain": [
       "<matplotlib.collections.PathCollection at 0x8718d70>"
      ]
     },
     "execution_count": 26,
     "metadata": {},
     "output_type": "execute_result"
    },
    {
     "data": {
      "image/png": "[encoded data removed]",
      "text/plain": [
       "<Figure size 432x288 with 1 Axes>"
      ]
     },
     "metadata": {
      "needs_background": "light"
     },
     "output_type": "display_data"
    }
   ],
   "source": [
    "plt.scatter(y_test,y_test_pred)"
   ]
  },
  {
   "cell_type": "code",
   "execution_count": 27,
   "metadata": {},
   "outputs": [
    {
     "name": "stdout",
     "output_type": "stream",
     "text": [
      "MAE: 0.8224209102175281\n",
      "MSE: 1.291457363351577\n",
      "RMSE 1.1364230565029807\n"
     ]
    }
   ],
   "source": [
    "# check the error betwenn our Actual value and the predicted value\n",
    "from sklearn.metrics import r2_score, mean_absolute_error, mean_squared_error\n",
    "print('MAE:', mean_absolute_error(y_test, y_test_pred))\n",
    "\n",
    "print('MSE:', mean_squared_error(y_test, y_test_pred))\n",
    "\n",
    "print('RMSE', np.sqrt(mean_squared_error(y_test, y_test_pred)))"
   ]
  },
  {
   "cell_type": "code",
   "execution_count": 31,
   "metadata": {},
   "outputs": [
    {
     "data": {
      "text/plain": [
       "<matplotlib.axes._subplots.AxesSubplot at 0x88d4c10>"
      ]
     },
     "execution_count": 31,
     "metadata": {},
     "output_type": "execute_result"
    },
    {
     "data": {
      "image/png": "[encoded data removed]",
      "text/plain": [
       "<Figure size 864x720 with 1 Axes>"
      ]
     },
     "metadata": {
      "needs_background": "light"
     },
     "output_type": "display_data"
    }
   ],
   "source": [
    "plt.figure(figsize=(12,10))\n",
    "data_df.boxplot()"
   ]
  },
  {
   "cell_type": "code",
   "execution_count": null,
   "metadata": {},
   "outputs": [],
   "source": []
  }
 ],
 "metadata": {
  "kernelspec": {
   "display_name": "Python 3",
   "language": "python",
   "name": "python3"
  },
  "language_info": {
   "codemirror_mode": {
    "name": "ipython",
    "version": 3
   },
   "file_extension": ".py",
   "mimetype": "text/x-python",
   "name": "python",
   "nbconvert_exporter": "python",
   "pygments_lexer": "ipython3",
   "version": "3.7.6"
  }
 },
 "nbformat": 4,
 "nbformat_minor": 4
}
